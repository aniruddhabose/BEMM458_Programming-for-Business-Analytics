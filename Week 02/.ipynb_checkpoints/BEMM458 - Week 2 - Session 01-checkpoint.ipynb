{
 "cells": [
  {
   "cell_type": "code",
   "execution_count": 6,
   "id": "825edce0-1a69-4f81-8a5c-74fdd4a125db",
   "metadata": {},
   "outputs": [],
   "source": [
    "# Question 2"
   ]
  },
  {
   "cell_type": "code",
   "execution_count": 9,
   "id": "7e00ec02-d734-4aaa-a640-5889185defa5",
   "metadata": {},
   "outputs": [],
   "source": [
    "a = 1\n",
    "b = 2.0\n",
    "c = 'Exeter'\n",
    "d = '3.0'"
   ]
  },
  {
   "cell_type": "code",
   "execution_count": 10,
   "id": "1a8ef992-6de5-40e3-b004-aee1868e905c",
   "metadata": {},
   "outputs": [
    {
     "name": "stdout",
     "output_type": "stream",
     "text": [
      "data typoe of a: <class 'int'>\n",
      "data typoe of b: <class 'float'>\n",
      "data typoe of c: <class 'str'>\n",
      "data typoe of d: <class 'str'>\n"
     ]
    }
   ],
   "source": [
    "print('data typoe of a:', type(a))\n",
    "print('data typoe of b:', type(b))\n",
    "print('data typoe of c:', type(c))\n",
    "print('data typoe of d:', type(d))"
   ]
  },
  {
   "cell_type": "code",
   "execution_count": null,
   "id": "6543b6ca-4b15-461c-a222-a08d1851c60e",
   "metadata": {},
   "outputs": [],
   "source": []
  },
  {
   "cell_type": "code",
   "execution_count": 11,
   "id": "f6e926c3-515c-4970-bd36-d9e6fb4eea5e",
   "metadata": {},
   "outputs": [],
   "source": [
    "# Question 2"
   ]
  },
  {
   "cell_type": "code",
   "execution_count": 12,
   "id": "f0761f32-3ee4-448a-b888-c4831afd20d7",
   "metadata": {},
   "outputs": [],
   "source": [
    "my_string = 'Today we are learning about variables and data-types'"
   ]
  },
  {
   "cell_type": "code",
   "execution_count": 13,
   "id": "2a82602c-198f-42df-b5e4-3e0d7bdfecb8",
   "metadata": {},
   "outputs": [
    {
     "data": {
      "text/plain": [
       "'Today '"
      ]
     },
     "execution_count": 13,
     "metadata": {},
     "output_type": "execute_result"
    }
   ],
   "source": [
    "my_string[:6]"
   ]
  },
  {
   "cell_type": "code",
   "execution_count": 15,
   "id": "0bfd5688-b345-44ca-b7a3-ac1b066782d4",
   "metadata": {},
   "outputs": [
    {
     "data": {
      "text/plain": [
       "'data-types'"
      ]
     },
     "execution_count": 15,
     "metadata": {},
     "output_type": "execute_result"
    }
   ],
   "source": [
    "my_string[-10:]"
   ]
  },
  {
   "cell_type": "code",
   "execution_count": 16,
   "id": "d2f68c2d-6250-4ffa-9070-3c89917b216e",
   "metadata": {},
   "outputs": [
    {
     "data": {
      "text/plain": [
       "'learning about variables'"
      ]
     },
     "execution_count": 16,
     "metadata": {},
     "output_type": "execute_result"
    }
   ],
   "source": [
    "my_string[13:37]"
   ]
  },
  {
   "cell_type": "code",
   "execution_count": 21,
   "id": "cae79691-cfe2-450a-9f73-30d804c357f5",
   "metadata": {},
   "outputs": [
    {
     "name": "stdout",
     "output_type": "stream",
     "text": [
      "sepyt-atad dna selbairav tuoba gninrael era ew yadoT\n"
     ]
    }
   ],
   "source": [
    "reversed_string = my_string[::-1]\n",
    "print(reversed_string)"
   ]
  },
  {
   "cell_type": "code",
   "execution_count": 24,
   "id": "2ddb5a07-7e71-48ce-95b5-8eebd486acf2",
   "metadata": {},
   "outputs": [
    {
     "name": "stdout",
     "output_type": "stream",
     "text": [
      "sepyt-atad dna selbairav tuoba gninrael era ew yadoT\n"
     ]
    }
   ],
   "source": [
    "print(my_string[-1::-1]) # alternate method"
   ]
  },
  {
   "cell_type": "code",
   "execution_count": 18,
   "id": "b2758cdc-45cc-495c-bbef-327f0fef2b86",
   "metadata": {},
   "outputs": [
    {
     "data": {
      "text/plain": [
       "' yadoT'"
      ]
     },
     "execution_count": 18,
     "metadata": {},
     "output_type": "execute_result"
    }
   ],
   "source": [
    "reversed_string[-6:]"
   ]
  },
  {
   "cell_type": "code",
   "execution_count": 25,
   "id": "b3ac7d93-c4f0-4a76-bea6-27016dcac5ef",
   "metadata": {},
   "outputs": [
    {
     "name": "stdout",
     "output_type": "stream",
     "text": [
      "yadoT\n"
     ]
    }
   ],
   "source": [
    "print(my_string[4::-1]) # alternate method"
   ]
  },
  {
   "cell_type": "code",
   "execution_count": 20,
   "id": "31d70ef1-67a5-481d-a462-134691f75130",
   "metadata": {},
   "outputs": [
    {
     "name": "stdout",
     "output_type": "stream",
     "text": [
      "Tdyw r erigaotvralsaddt-ye\n"
     ]
    }
   ],
   "source": [
    "print(my_string[::2])"
   ]
  },
  {
   "cell_type": "code",
   "execution_count": null,
   "id": "a7c00c88-1896-4d12-9fee-c8c74d0603cd",
   "metadata": {},
   "outputs": [],
   "source": []
  },
  {
   "cell_type": "code",
   "execution_count": 37,
   "id": "68d3e8af-ded0-4daa-b1bf-c6f7ba10b04f",
   "metadata": {},
   "outputs": [
    {
     "name": "stdout",
     "output_type": "stream",
     "text": [
      "Today we are learning about variables and data-types\n"
     ]
    }
   ],
   "source": [
    "print(my_string[::1])"
   ]
  },
  {
   "cell_type": "code",
   "execution_count": 38,
   "id": "a42e07e4-5986-4f5f-98dd-84b6f8743423",
   "metadata": {},
   "outputs": [
    {
     "name": "stdout",
     "output_type": "stream",
     "text": [
      "Tdyw r erigaotvralsaddt-ye\n"
     ]
    }
   ],
   "source": [
    "print(my_string[::2])"
   ]
  },
  {
   "cell_type": "code",
   "execution_count": 39,
   "id": "3c39cdb4-58e2-44a3-905d-e4717d3a7dcd",
   "metadata": {},
   "outputs": [
    {
     "name": "stdout",
     "output_type": "stream",
     "text": [
      "Tawa ai o rbsndays\n"
     ]
    }
   ],
   "source": [
    "print(my_string[::3])"
   ]
  },
  {
   "cell_type": "code",
   "execution_count": null,
   "id": "c7812d2d-8282-453f-a4f0-45b77d3b44ae",
   "metadata": {},
   "outputs": [],
   "source": []
  },
  {
   "cell_type": "code",
   "execution_count": 26,
   "id": "3d34166f-2704-4d20-bc3c-44a6523b83d9",
   "metadata": {},
   "outputs": [],
   "source": [
    "# Question 3"
   ]
  },
  {
   "cell_type": "code",
   "execution_count": 27,
   "id": "f7b8b855-a959-416c-b806-b9f2fab6ee6d",
   "metadata": {},
   "outputs": [],
   "source": [
    "mylist=[1,2.5,'3','Exeter','Python']"
   ]
  },
  {
   "cell_type": "code",
   "execution_count": 28,
   "id": "d38b6928-3a27-45cb-87b8-b1c29881d4bd",
   "metadata": {},
   "outputs": [],
   "source": [
    "del(mylist[0])"
   ]
  },
  {
   "cell_type": "code",
   "execution_count": 29,
   "id": "0bc3227d-f853-41f2-a62c-78de0510ae56",
   "metadata": {},
   "outputs": [
    {
     "data": {
      "text/plain": [
       "[2.5, '3', 'Exeter', 'Python']"
      ]
     },
     "execution_count": 29,
     "metadata": {},
     "output_type": "execute_result"
    }
   ],
   "source": [
    "mylist"
   ]
  },
  {
   "cell_type": "code",
   "execution_count": null,
   "id": "e6d77014-0ee4-49b7-8471-bb9aa773f554",
   "metadata": {},
   "outputs": [],
   "source": []
  },
  {
   "cell_type": "code",
   "execution_count": 58,
   "id": "d52b2e5d-7f67-4a05-969d-3603131de3ef",
   "metadata": {},
   "outputs": [],
   "source": [
    "mylist=[1,2.5,'3','Exeter','Python']"
   ]
  },
  {
   "cell_type": "code",
   "execution_count": 59,
   "id": "a9e0b170-cdee-48c8-9d99-dcd6277bece7",
   "metadata": {},
   "outputs": [
    {
     "data": {
      "text/plain": [
       "0"
      ]
     },
     "execution_count": 59,
     "metadata": {},
     "output_type": "execute_result"
    }
   ],
   "source": [
    "delete_index = mylist.index(1)\n",
    "delete_index"
   ]
  },
  {
   "cell_type": "code",
   "execution_count": 60,
   "id": "e54a988a-d60e-425c-95fa-070120d8c752",
   "metadata": {},
   "outputs": [],
   "source": [
    "del(mylist[delete_index])"
   ]
  },
  {
   "cell_type": "code",
   "execution_count": 61,
   "id": "08f4d862-7d16-407a-8e88-bb8d58328b5a",
   "metadata": {},
   "outputs": [
    {
     "data": {
      "text/plain": [
       "[2.5, '3', 'Exeter', 'Python']"
      ]
     },
     "execution_count": 61,
     "metadata": {},
     "output_type": "execute_result"
    }
   ],
   "source": [
    "mylist"
   ]
  },
  {
   "cell_type": "code",
   "execution_count": null,
   "id": "e980ed48-762f-412e-ac22-55aca45a4aec",
   "metadata": {},
   "outputs": [],
   "source": []
  },
  {
   "cell_type": "code",
   "execution_count": 42,
   "id": "0b1d55d6-74b4-4b0a-8159-0efb1be9734d",
   "metadata": {},
   "outputs": [],
   "source": [
    "mylist=[1,2.5,'3','Exeter','Python']"
   ]
  },
  {
   "cell_type": "code",
   "execution_count": 45,
   "id": "301684b5-e6b0-46c0-ac08-a8494ae32d17",
   "metadata": {},
   "outputs": [
    {
     "name": "stdout",
     "output_type": "stream",
     "text": [
      "['Python', 'Exeter', '3', 2.5, 1]\n"
     ]
    }
   ],
   "source": [
    "print(mylist[-1::-1])"
   ]
  },
  {
   "cell_type": "code",
   "execution_count": null,
   "id": "b7167b47-5225-47cb-9150-cc58369bd96d",
   "metadata": {},
   "outputs": [],
   "source": []
  },
  {
   "cell_type": "code",
   "execution_count": 48,
   "id": "c7fff695-c917-41f4-9b9e-a2b5fd116b34",
   "metadata": {},
   "outputs": [
    {
     "name": "stdout",
     "output_type": "stream",
     "text": [
      "[1, 2.5, '3', 'Exeter', 'Python', 'Exeter', 5, 1.2]\n"
     ]
    }
   ],
   "source": [
    "mylist_ext = mylist + ['Exeter',5,1.2]\n",
    "print(mylist_ext)"
   ]
  },
  {
   "cell_type": "code",
   "execution_count": null,
   "id": "9444d47a-b777-4f51-9e13-58e9e037c591",
   "metadata": {},
   "outputs": [],
   "source": []
  },
  {
   "cell_type": "code",
   "execution_count": 49,
   "id": "9991697a-1390-47f2-8eaf-814eb1e85999",
   "metadata": {},
   "outputs": [
    {
     "data": {
      "text/plain": [
       "2"
      ]
     },
     "execution_count": 49,
     "metadata": {},
     "output_type": "execute_result"
    }
   ],
   "source": [
    "mylist_ext.count('Exeter')"
   ]
  },
  {
   "cell_type": "code",
   "execution_count": null,
   "id": "59655ae8-ddc4-4c20-9396-caa174e9107f",
   "metadata": {},
   "outputs": [],
   "source": []
  },
  {
   "cell_type": "code",
   "execution_count": 50,
   "id": "2f8f0cc7-71d6-4a0a-ad5f-fd6921c1c1cd",
   "metadata": {},
   "outputs": [],
   "source": [
    "# Question 4"
   ]
  },
  {
   "cell_type": "code",
   "execution_count": 64,
   "id": "541618a3-0b00-40ee-bd15-6073ed8f5115",
   "metadata": {},
   "outputs": [],
   "source": [
    "cities = {1 : 'Exeter', \n",
    "          2 : 'Bath',  \n",
    "          3 : 'Bristol', \n",
    "          4 : 'London'\n",
    "         }"
   ]
  },
  {
   "cell_type": "code",
   "execution_count": 65,
   "id": "6bb6648e-0cd6-4a10-b6b0-3ba5228c56b3",
   "metadata": {},
   "outputs": [
    {
     "data": {
      "text/plain": [
       "{1: 'Exeter', 2: 'Bath', 3: 'Bristol', 4: 'London'}"
      ]
     },
     "execution_count": 65,
     "metadata": {},
     "output_type": "execute_result"
    }
   ],
   "source": [
    "cities"
   ]
  },
  {
   "cell_type": "code",
   "execution_count": null,
   "id": "98f0baed-1726-4b7a-9df1-d54875c64721",
   "metadata": {},
   "outputs": [],
   "source": []
  }
 ],
 "metadata": {
  "kernelspec": {
   "display_name": "Python 3 (ipykernel)",
   "language": "python",
   "name": "python3"
  },
  "language_info": {
   "codemirror_mode": {
    "name": "ipython",
    "version": 3
   },
   "file_extension": ".py",
   "mimetype": "text/x-python",
   "name": "python",
   "nbconvert_exporter": "python",
   "pygments_lexer": "ipython3",
   "version": "3.9.19"
  }
 },
 "nbformat": 4,
 "nbformat_minor": 5
}
