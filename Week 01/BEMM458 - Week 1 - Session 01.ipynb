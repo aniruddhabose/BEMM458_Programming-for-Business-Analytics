{
 "cells": [
  {
   "cell_type": "markdown",
   "id": "e59a1023-201c-455d-8c14-781b5e85a4c6",
   "metadata": {},
   "source": [
    "# BEMM458 - Week 1 - Session 01"
   ]
  },
  {
   "cell_type": "code",
   "execution_count": null,
   "id": "ae55ec4c-acd5-44ce-81c7-3710d4fa5978",
   "metadata": {},
   "outputs": [],
   "source": []
  },
  {
   "cell_type": "code",
   "execution_count": 1,
   "id": "7ab552d8-8370-4182-929b-9f7dc303ab7a",
   "metadata": {},
   "outputs": [
    {
     "name": "stdout",
     "output_type": "stream",
     "text": [
      "Hello Exeter\n"
     ]
    }
   ],
   "source": [
    "print('Hello Exeter')"
   ]
  },
  {
   "cell_type": "code",
   "execution_count": 2,
   "id": "1020cf7b-5256-435e-979e-e038bce0cd11",
   "metadata": {},
   "outputs": [
    {
     "data": {
      "text/plain": [
       "3"
      ]
     },
     "execution_count": 2,
     "metadata": {},
     "output_type": "execute_result"
    }
   ],
   "source": [
    "1+2"
   ]
  },
  {
   "cell_type": "code",
   "execution_count": 3,
   "id": "7dcedb8a-6184-4529-9721-9dbdee330604",
   "metadata": {},
   "outputs": [],
   "source": [
    "x = 2"
   ]
  },
  {
   "cell_type": "code",
   "execution_count": 4,
   "id": "53af14cb-4f55-4193-acf3-f10a6dbadf54",
   "metadata": {},
   "outputs": [
    {
     "name": "stdout",
     "output_type": "stream",
     "text": [
      "2\n"
     ]
    }
   ],
   "source": [
    "print(x)"
   ]
  },
  {
   "cell_type": "code",
   "execution_count": 5,
   "id": "5b18c777-f58a-4372-9b69-e230a23d2cc0",
   "metadata": {},
   "outputs": [],
   "source": [
    "x = 5 # Where x is assigned a value 5"
   ]
  },
  {
   "cell_type": "code",
   "execution_count": 6,
   "id": "fc7d8122-e3be-48b2-bab5-7d97606207d9",
   "metadata": {},
   "outputs": [
    {
     "name": "stdout",
     "output_type": "stream",
     "text": [
      "5\n"
     ]
    }
   ],
   "source": [
    "print(x)"
   ]
  },
  {
   "cell_type": "code",
   "execution_count": null,
   "id": "85f4a878-ffab-4ca6-a485-f23013de39c3",
   "metadata": {},
   "outputs": [],
   "source": []
  }
 ],
 "metadata": {
  "kernelspec": {
   "display_name": "Python 3 (ipykernel)",
   "language": "python",
   "name": "python3"
  },
  "language_info": {
   "codemirror_mode": {
    "name": "ipython",
    "version": 3
   },
   "file_extension": ".py",
   "mimetype": "text/x-python",
   "name": "python",
   "nbconvert_exporter": "python",
   "pygments_lexer": "ipython3",
   "version": "3.9.19"
  }
 },
 "nbformat": 4,
 "nbformat_minor": 5
}
