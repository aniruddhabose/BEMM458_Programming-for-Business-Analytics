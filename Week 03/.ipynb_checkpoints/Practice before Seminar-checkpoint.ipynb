{
 "cells": [
  {
   "cell_type": "markdown",
   "id": "a284d0e2-e9fb-4b96-a533-545eb4ebcbb2",
   "metadata": {},
   "source": [
    "# Practice before Seminar"
   ]
  },
  {
   "cell_type": "markdown",
   "id": "ab0c9f51-591a-463c-8927-471701818901",
   "metadata": {},
   "source": [
    "### if-elif-else\n",
    "\n",
    "https://www.w3schools.com/python/python_conditions.asp"
   ]
  },
  {
   "cell_type": "code",
   "execution_count": null,
   "id": "692c27e3-fee4-44fe-8572-01b95f37238b",
   "metadata": {},
   "outputs": [],
   "source": []
  },
  {
   "cell_type": "markdown",
   "id": "52addc11-fa20-4f2f-bf96-018615ad8466",
   "metadata": {},
   "source": [
    "#### if Statement"
   ]
  },
  {
   "cell_type": "code",
   "execution_count": 1,
   "id": "1893aa31-6672-4da3-b4b9-89745d139ace",
   "metadata": {},
   "outputs": [
    {
     "name": "stdout",
     "output_type": "stream",
     "text": [
      "b is greater than a\n"
     ]
    }
   ],
   "source": [
    "a = 33\n",
    "b = 200\n",
    "if b > a:\n",
    "    print(\"b is greater than a\")"
   ]
  },
  {
   "cell_type": "code",
   "execution_count": null,
   "id": "76c0c10c-0d84-46bc-aa0d-ba011286f6c8",
   "metadata": {},
   "outputs": [],
   "source": []
  },
  {
   "cell_type": "markdown",
   "id": "15ab14bc-a1d4-4aa9-aae7-06da8cea7ebf",
   "metadata": {},
   "source": [
    "#### if-elif Statement"
   ]
  },
  {
   "cell_type": "code",
   "execution_count": 2,
   "id": "2f6e1f09-38a7-4d10-897d-96adb8f1aa53",
   "metadata": {},
   "outputs": [
    {
     "name": "stdout",
     "output_type": "stream",
     "text": [
      "a and b are equal\n"
     ]
    }
   ],
   "source": [
    "a = 33\n",
    "b = 33\n",
    "if b > a:\n",
    "  print(\"b is greater than a\")\n",
    "elif a == b:\n",
    "  print(\"a and b are equal\")"
   ]
  },
  {
   "cell_type": "code",
   "execution_count": 8,
   "id": "6498d2af-e9be-4934-855b-0a8410b78496",
   "metadata": {},
   "outputs": [
    {
     "name": "stdout",
     "output_type": "stream",
     "text": [
      "1st condition is False, but 2nd is True\n"
     ]
    }
   ],
   "source": [
    "#using 'elif'\n",
    "my_1st_condition = False\n",
    "my_2nd_condition = True\n",
    "#note use of 'is' keyword (instead of ==)\n",
    "if my_1st_condition is True:\n",
    "    print('1st condition is True')\n",
    "elif my_2nd_condition is True:\n",
    "    print('1st condition is False, but 2nd is True')\n",
    "else:\n",
    "    print('Both conditions are False')"
   ]
  },
  {
   "cell_type": "code",
   "execution_count": null,
   "id": "93e4c906-effb-4029-bf99-eff684a94b31",
   "metadata": {},
   "outputs": [],
   "source": []
  },
  {
   "cell_type": "markdown",
   "id": "a5f02040-74a7-40ea-8b8d-3ce33f6f3160",
   "metadata": {},
   "source": [
    "#### if-elif-else Statement"
   ]
  },
  {
   "cell_type": "code",
   "execution_count": 3,
   "id": "907cd67e-9baa-4312-b159-77d4402944b9",
   "metadata": {},
   "outputs": [
    {
     "name": "stdout",
     "output_type": "stream",
     "text": [
      "a is greater than b\n"
     ]
    }
   ],
   "source": [
    "a = 200\n",
    "b = 33\n",
    "if b > a:\n",
    "  print(\"b is greater than a\")\n",
    "elif a == b:\n",
    "  print(\"a and b are equal\")\n",
    "else:\n",
    "  print(\"a is greater than b\")"
   ]
  },
  {
   "cell_type": "code",
   "execution_count": null,
   "id": "c8f41ce8-ecb0-4f9a-bc8e-b1b9b3c299d0",
   "metadata": {},
   "outputs": [],
   "source": []
  },
  {
   "cell_type": "markdown",
   "id": "f0ee6808-813d-4c33-930e-2da8d7635b96",
   "metadata": {},
   "source": [
    "#### if-else Statement"
   ]
  },
  {
   "cell_type": "code",
   "execution_count": 4,
   "id": "b0f64105-d043-4792-bf67-e0b395debd54",
   "metadata": {},
   "outputs": [
    {
     "name": "stdout",
     "output_type": "stream",
     "text": [
      "b is not greater than a\n"
     ]
    }
   ],
   "source": [
    "a = 200\n",
    "b = 33\n",
    "if b > a:\n",
    "  print(\"b is greater than a\")\n",
    "else:\n",
    "  print(\"b is not greater than a\")"
   ]
  },
  {
   "cell_type": "code",
   "execution_count": null,
   "id": "58dcdc77-43ae-4fb3-a0ba-cd3a5d9dcd62",
   "metadata": {},
   "outputs": [],
   "source": []
  },
  {
   "cell_type": "markdown",
   "id": "55cd1b9f-1ae8-4684-b0f9-4ea05a703c91",
   "metadata": {},
   "source": [
    "#### Nested If Statement"
   ]
  },
  {
   "cell_type": "code",
   "execution_count": 5,
   "id": "188ccb3f-2e52-4669-afd2-7cacc87ee55e",
   "metadata": {},
   "outputs": [
    {
     "name": "stdout",
     "output_type": "stream",
     "text": [
      "Above ten,\n",
      "and also above 20!\n"
     ]
    }
   ],
   "source": [
    "x = 41\n",
    "\n",
    "if x > 10:\n",
    "  print(\"Above ten,\")\n",
    "  if x > 20:\n",
    "    print(\"and also above 20!\")\n",
    "  else:\n",
    "    print(\"but not above 20.\")"
   ]
  },
  {
   "cell_type": "code",
   "execution_count": null,
   "id": "2f8d283a-75e1-495d-a20f-f3e280804679",
   "metadata": {},
   "outputs": [],
   "source": []
  },
  {
   "cell_type": "markdown",
   "id": "3079796d-fa07-426a-8fee-08b2c19f5eb1",
   "metadata": {},
   "source": [
    "# Iteration\n",
    "Loops...\n",
    "1. Iterate over a collection of items - a 'for' loop\n",
    "2. Loop until some condition is true - a 'while' loop\n",
    "\n",
    "Whitespace used again to delineate code blocks"
   ]
  },
  {
   "cell_type": "code",
   "execution_count": null,
   "id": "23fcb3b9-180b-4003-8f63-be8b6099bd52",
   "metadata": {},
   "outputs": [],
   "source": []
  },
  {
   "cell_type": "markdown",
   "id": "20d0c2a0-d22f-470c-a704-fc6532703b20",
   "metadata": {},
   "source": [
    "### While Loops\n",
    "https://www.w3schools.com/python/python_while_loops.asp"
   ]
  },
  {
   "cell_type": "code",
   "execution_count": null,
   "id": "cad85327-e1b0-46c6-aa02-1f3ecc678590",
   "metadata": {},
   "outputs": [],
   "source": []
  },
  {
   "cell_type": "markdown",
   "id": "e2762ae1-1075-4ff7-9025-a04e356ae50c",
   "metadata": {},
   "source": [
    "#### while Loop"
   ]
  },
  {
   "cell_type": "code",
   "execution_count": 19,
   "id": "ab8caa66-1e42-40b2-b647-99af8c3762a1",
   "metadata": {},
   "outputs": [
    {
     "name": "stdout",
     "output_type": "stream",
     "text": [
      "1\n",
      "2\n",
      "3\n",
      "4\n",
      "5\n"
     ]
    }
   ],
   "source": [
    "i = 1\n",
    "while i < 6:\n",
    "  print(i)\n",
    "  i += 1"
   ]
  },
  {
   "cell_type": "code",
   "execution_count": 29,
   "id": "eaddd3af-0a83-4905-8341-f2374c5c2ef0",
   "metadata": {},
   "outputs": [
    {
     "name": "stdout",
     "output_type": "stream",
     "text": [
      "10\n",
      "20\n",
      "30\n",
      "40\n",
      "50\n"
     ]
    }
   ],
   "source": [
    "# Iterating Over a List\n",
    "\n",
    "l1 = [10, 20, 30, 40, 50]\n",
    "\n",
    "i = 0\n",
    "while i < len(l1):\n",
    "    print(l1[i])\n",
    "    i += 1"
   ]
  },
  {
   "cell_type": "code",
   "execution_count": null,
   "id": "afe6ecf4-0cfe-4ace-963c-c86fbd38a534",
   "metadata": {},
   "outputs": [],
   "source": []
  },
  {
   "cell_type": "code",
   "execution_count": null,
   "id": "1a68ab81-a70f-4559-8a81-22ab71ba8dd4",
   "metadata": {},
   "outputs": [],
   "source": []
  },
  {
   "cell_type": "code",
   "execution_count": null,
   "id": "7d5558c9-7d7e-482b-a702-a80b31dc18ee",
   "metadata": {},
   "outputs": [],
   "source": []
  },
  {
   "cell_type": "code",
   "execution_count": null,
   "id": "7a13031b-83fd-418e-82ca-97f1d1846bef",
   "metadata": {},
   "outputs": [],
   "source": []
  },
  {
   "cell_type": "code",
   "execution_count": null,
   "id": "1216733e-1afa-471e-a737-578b4f31b384",
   "metadata": {},
   "outputs": [],
   "source": []
  },
  {
   "cell_type": "code",
   "execution_count": null,
   "id": "1d4db586-942e-4b0f-a53f-4fad4fb1f131",
   "metadata": {},
   "outputs": [],
   "source": []
  },
  {
   "cell_type": "code",
   "execution_count": null,
   "id": "f116c933-bc82-487b-b225-a789cd643c77",
   "metadata": {},
   "outputs": [],
   "source": []
  },
  {
   "cell_type": "code",
   "execution_count": null,
   "id": "db85cc05-aa01-47bc-bda8-8905d64476f4",
   "metadata": {},
   "outputs": [],
   "source": []
  },
  {
   "cell_type": "code",
   "execution_count": null,
   "id": "caec47ff-d327-4420-952b-f2d23220b544",
   "metadata": {},
   "outputs": [],
   "source": []
  },
  {
   "cell_type": "code",
   "execution_count": null,
   "id": "744a6a82-fcfa-4c54-aca1-df76531bfcf8",
   "metadata": {},
   "outputs": [],
   "source": []
  },
  {
   "cell_type": "code",
   "execution_count": null,
   "id": "4b2f72fd-ea34-43ea-a980-8406698187b7",
   "metadata": {},
   "outputs": [],
   "source": []
  },
  {
   "cell_type": "code",
   "execution_count": null,
   "id": "9efef37a-fbbe-410b-97f3-f1a9b096f3c4",
   "metadata": {},
   "outputs": [],
   "source": []
  },
  {
   "cell_type": "code",
   "execution_count": null,
   "id": "4f184dc8-7bd7-4ed8-86cb-4cb6f272ed85",
   "metadata": {},
   "outputs": [],
   "source": []
  },
  {
   "cell_type": "code",
   "execution_count": 34,
   "id": "6df76dae-0ce8-40d5-b07e-749e1820ef59",
   "metadata": {},
   "outputs": [
    {
     "name": "stdout",
     "output_type": "stream",
     "text": [
      "Quarter 1 (end Mar), cumulative days: 90\n",
      "Quarter 2 (end Jun), cumulative days: 181\n",
      "Quarter 3 (end Sep), cumulative days: 273\n",
      "Quarter 4 (end Dec), cumulative days: 365\n"
     ]
    }
   ],
   "source": [
    "#example - iterating over dictionary keys:\n",
    "days_in_month = {'Jan':31,'Feb':28,'Mar':31,\n",
    "                'Apr':30,'May':31,'Jun':30,\n",
    "                'Jul':31,'Aug':31,'Sep':30,\n",
    "                'Oct':31,'Nov':30,'Dec':31}\n",
    "\n",
    "num_days=0\n",
    "qtr_ends = list(days_in_month.keys())[2::3]\n",
    "qtr=0\n",
    "\n",
    "#note 'in' keyword\n",
    "for i in days_in_month.keys():\n",
    "    num_days = num_days + days_in_month[i]\n",
    "    if i in qtr_ends:\n",
    "        qtr=qtr+1\n",
    "        print('Quarter '+str(qtr)+' (end '+i+'), cumulative days:',num_days)"
   ]
  },
  {
   "cell_type": "code",
   "execution_count": 35,
   "id": "0f1e245f-b385-4e77-9df4-edee9750649a",
   "metadata": {},
   "outputs": [
    {
     "name": "stdout",
     "output_type": "stream",
     "text": [
      "qtr_ends list : ['Mar', 'Jun', 'Sep', 'Dec']\n",
      "Jan\n",
      "31\n",
      "Feb\n",
      "59\n",
      "Mar\n",
      "90\n",
      "Quarter 1 (end Mar), cumulative days: 90\n",
      "Apr\n",
      "120\n",
      "May\n",
      "151\n",
      "Jun\n",
      "181\n",
      "Quarter 2 (end Jun), cumulative days: 181\n",
      "Jul\n",
      "212\n",
      "Aug\n",
      "243\n",
      "Sep\n",
      "273\n",
      "Quarter 3 (end Sep), cumulative days: 273\n",
      "Oct\n",
      "304\n",
      "Nov\n",
      "334\n",
      "Dec\n",
      "365\n",
      "Quarter 4 (end Dec), cumulative days: 365\n"
     ]
    }
   ],
   "source": [
    "#example - iterating over dictionary keys:\n",
    "days_in_month = {'Jan':31,'Feb':28,'Mar':31,\n",
    "                'Apr':30,'May':31,'Jun':30,\n",
    "                'Jul':31,'Aug':31,'Sep':30,\n",
    "                'Oct':31,'Nov':30,'Dec':31}\n",
    "\n",
    "num_days=0\n",
    "\n",
    "qtr_ends = list(days_in_month.keys())[2::3]\n",
    "print(\"qtr_ends list :\", qtr_ends)\n",
    "\n",
    "qtr=0\n",
    "\n",
    "#note 'in' keyword\n",
    "for i in days_in_month.keys():\n",
    "    print(i)\n",
    "    num_days = num_days + days_in_month[i]\n",
    "    print(num_days)\n",
    "    if i in qtr_ends:\n",
    "        qtr=qtr+1\n",
    "        print('Quarter '+str(qtr)+' (end '+i+'), cumulative days:',num_days)"
   ]
  },
  {
   "cell_type": "code",
   "execution_count": null,
   "id": "76f804e8-e9fd-45f0-8594-9ba909b545b6",
   "metadata": {},
   "outputs": [],
   "source": []
  },
  {
   "cell_type": "code",
   "execution_count": 15,
   "id": "703acedc-faf1-400b-82fb-3f40370c6baf",
   "metadata": {},
   "outputs": [],
   "source": [
    "list1 = [1, 2, 3, 4, 5, 6, 7, 8, 9]"
   ]
  },
  {
   "cell_type": "code",
   "execution_count": 16,
   "id": "2a0f1f82-f3c4-4cde-8f3a-be38efe5bbd3",
   "metadata": {},
   "outputs": [
    {
     "data": {
      "text/plain": [
       "[3, 6, 9]"
      ]
     },
     "execution_count": 16,
     "metadata": {},
     "output_type": "execute_result"
    }
   ],
   "source": [
    "list1[2::3]"
   ]
  },
  {
   "cell_type": "code",
   "execution_count": 17,
   "id": "cf273848-f293-4cbd-80b5-01f7fc00c096",
   "metadata": {},
   "outputs": [
    {
     "name": "stdout",
     "output_type": "stream",
     "text": [
      "31\n",
      "59\n",
      "90\n",
      "120\n",
      "151\n",
      "181\n",
      "212\n",
      "243\n",
      "273\n",
      "304\n",
      "334\n",
      "365\n"
     ]
    }
   ],
   "source": [
    "days_in_month = {'Jan':31,'Feb':28,'Mar':31,\n",
    "                'Apr':30,'May':31,'Jun':30,\n",
    "                'Jul':31,'Aug':31,'Sep':30,\n",
    "                'Oct':31,'Nov':30,'Dec':31}\n",
    "\n",
    "num_days=0\n",
    "qtr_ends = list(days_in_month.keys())[2::3]\n",
    "qtr=0\n",
    "\n",
    "#note 'in' keyword\n",
    "for i in days_in_month.keys():\n",
    "    num_days = num_days + days_in_month[i]\n",
    "    print(num_days)"
   ]
  },
  {
   "cell_type": "code",
   "execution_count": 40,
   "id": "402fcf26-d9c5-4041-8416-e3a31a358bb8",
   "metadata": {},
   "outputs": [
    {
     "name": "stdout",
     "output_type": "stream",
     "text": [
      "[0, 1, 2, 3, 4]\n",
      "[0, 1, 4, 9, 16]\n"
     ]
    }
   ],
   "source": [
    "# a dictionary comprehension\n",
    "squares = {x:x**2 for x in range(5)}\n",
    "\n",
    "list1 = list(squares.keys())\n",
    "print(list1)\n",
    "\n",
    "list2 = list(squares.values())\n",
    "print(list2)"
   ]
  },
  {
   "cell_type": "code",
   "execution_count": null,
   "id": "e55bc00d-49ba-46ca-b715-40d1ee21b088",
   "metadata": {},
   "outputs": [],
   "source": []
  }
 ],
 "metadata": {
  "kernelspec": {
   "display_name": "Python 3 (ipykernel)",
   "language": "python",
   "name": "python3"
  },
  "language_info": {
   "codemirror_mode": {
    "name": "ipython",
    "version": 3
   },
   "file_extension": ".py",
   "mimetype": "text/x-python",
   "name": "python",
   "nbconvert_exporter": "python",
   "pygments_lexer": "ipython3",
   "version": "3.9.19"
  }
 },
 "nbformat": 4,
 "nbformat_minor": 5
}
